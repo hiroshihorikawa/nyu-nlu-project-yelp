{
 "cells": [
  {
   "cell_type": "code",
   "execution_count": 2,
   "metadata": {},
   "outputs": [],
   "source": [
    "import nltk\n",
    "from nltk.corpus import treebank"
   ]
  },
  {
   "cell_type": "code",
   "execution_count": 91,
   "metadata": {},
   "outputs": [],
   "source": [
    "a = \"Last night, I had pasta with chicken and wine. The pasta was fantastic but I wish they made the sauce less salty.\"\n",
    "b = \"\"\"The pho with beef was great. My friend had chicken pho.\"\"\"\n",
    "c = \"\"\"The BLT sandwich was aweful. The bread was hard and soggy.\"\"\"\n",
    "# from below, actually from yelp\n",
    "d = \"\"\"Server was a little rude. Ordered the calamari, duck confit poutine and the trout fish with miso soba - all very tasty. Definitely not your typical diner.\"\"\"\n",
    "e = \"\"\"Had their chocolate almond croissant and it was amazing! So light and buttery and oh my how chocolaty.\\n\\nIf you're looking for a light breakfast then head out here. Perfect spot for a coffee\\/latté before heading out to the old port\"\"\"\n",
    "# back to original\n",
    "f = \"\"\"Given how much the price is, I don't think it is worth eating buffalo chicken pizza. It is too expensive and it doesn't taste good.\"\"\"\n",
    "g = \"\"\"I really love the cheese pizza here. It is inexpensive, tasty, and filling.\"\"\"\n",
    "h = \"\"\"If you want good sushi, I would recommend you this store. The tuna sushi is the best you can find in this world.\"\"\"\n",
    "i = \"\"\"The chicken with rice is the signature dish you can get at the Halal cart outside of Palladium\"\"\"\n",
    "j = \"\"\"The beef and chicken sandwich is the best thing you can get\"\"\"\n",
    "l = \"\"\"The best egg noodles can be found in this store\"\"\"\n",
    "exp = [a,b,c,d,e,f,g,h,i,j,l]"
   ]
  },
  {
   "cell_type": "code",
   "execution_count": 94,
   "metadata": {},
   "outputs": [],
   "source": [
    "# for input one thing\n",
    "\n",
    "indiv = \"\"\"Brunch the day after st. Patrick's day. Pros: Spacious and neat environment. Friendly staff They open very early on Sunday morning. If you are an early bird, here's where you get Sunday breakfast. Close to transportation. Reasonable price for the food quality I recommend salmon Benedict and crab cake Benedict. Cons: The crab cake Benedict came with ham instead of crab cake. Waitress was kind enough to change it. This is a sports bar, you may not want to come here for a romantic date.\"\"\"\n",
    "\n",
    "\n"
   ]
  },
  {
   "cell_type": "code",
   "execution_count": 146,
   "metadata": {},
   "outputs": [],
   "source": [
    "def identifying(tagged, lib):\n",
    "    foods = []\n",
    "    length = len(tagged)\n",
    "    i=0\n",
    "    while(i<length):\n",
    "        bloc = i-1\n",
    "        aloc = i+1\n",
    "        if('NN' in tagged[i][1])and(tagged[i][0].lower() in lib):    # when food is found\n",
    "            candidate = tagged[i][0].lower()\n",
    "            #while(('NN' in tagged[bloc][1])or(tagged[bloc][1]=='IN')or(('NN' in tagged[bloc-1][1])and(tagged[bloc][1]=='CC')))and(bloc-1>0):    # when there is names of food before the located\n",
    "            while(('NN' in tagged[bloc][1])or(('NN' in tagged[bloc-1][1])and((tagged[bloc][1]=='CC')or(tagged[bloc][1]=='NN'))))and(bloc-1>0):    # when there is names of food before the located\n",
    "                candidate = tagged[bloc][0].lower() + ' ' + candidate\n",
    "                if('NN' in tagged[bloc][1])and(tagged[bloc][0].lower() not in lib):    # when name of food is not in library\n",
    "                    lib.append(tagged[bloc][0].lower())\n",
    "                bloc = bloc-1\n",
    "            while('NN' in tagged[aloc][1])or((aloc+1<len(tagged))and(tagged[aloc+1][1]=='NN')and((tagged[aloc][1]=='IN')or(tagged[aloc][1]=='CC'))):    # when there is names of food after the located\n",
    "                candidate = candidate + ' ' + tagged[aloc][0].lower()\n",
    "                if('NN' in tagged[aloc][1])and(tagged[aloc][0].lower() not in lib):    # when name of food is not in library\n",
    "                    lib.append(tagged[aloc][0].lower())\n",
    "                aloc +=1\n",
    "            i = aloc -1\n",
    "            \n",
    "            #foods.append(candidate)\n",
    "            # version to remove redundancies\n",
    "            if candidate not in foods:\n",
    "                foods.append(candidate)\n",
    "            \n",
    "        i +=1\n",
    "            \n",
    "    return foods, lib\n",
    "\n",
    "def tagging(sentence):\n",
    "    sentence1 = sentence.replace('\\n',' ')\n",
    "    sentence2 = sentence1.replace('\\/',' ')\n",
    "    tokens = nltk.word_tokenize(sentence2)\n",
    "    tagged = nltk.pos_tag(tokens)\n",
    "    return tagged"
   ]
  },
  {
   "cell_type": "code",
   "execution_count": 147,
   "metadata": {},
   "outputs": [],
   "source": [
    "def seedextract():\n",
    "    with open('seed.txt', 'r') as f:\n",
    "        food_seed = [line.strip() for line in f]\n",
    "    return food_seed\n",
    "\n",
    "def seedsave(saving):\n",
    "    thefile = open('seed.txt', 'w')\n",
    "    for item in saving:\n",
    "        thefile.write('%s\\n' % item)\n",
    "    backup = open('backup.txt', 'w')\n",
    "    for item in saving:\n",
    "        backup.write('%s\\n' % item)\n",
    "    return 1"
   ]
  },
  {
   "cell_type": "code",
   "execution_count": 148,
   "metadata": {},
   "outputs": [
    {
     "name": "stdout",
     "output_type": "stream",
     "text": [
      "['pasta with chicken and wine', 'pasta', 'sauce']\n",
      "['pho with beef', 'pho']\n",
      "['blt sandwich']\n",
      "['duck confit poutine', 'trout fish with miso']\n",
      "['chocolate almond croissant', 'coffee latté']\n",
      "['buffalo chicken pizza']\n",
      "['pizza']\n",
      "['sushi', 'tuna sushi']\n",
      "['chicken with rice', 'signature dish']\n",
      "['beef and chicken sandwich']\n",
      "['egg noodles']\n"
     ]
    },
    {
     "data": {
      "text/plain": [
       "1"
      ]
     },
     "execution_count": 148,
     "metadata": {},
     "output_type": "execute_result"
    }
   ],
   "source": [
    "# for multiple\n",
    "#lib = ['chicken','beef','pork','fish','duck','egg','carrot','brocolli','cabbage','olive','salad','almond','chocolate','miso','pasta','ramen','donut','sandwich','coffee','beer','wine','sake','whiskey','vodka']\n",
    "lib = seedextract()    # extracting text file holding randome food names\n",
    "'''\n",
    "tagged = tagging(b)\n",
    "foods = identifying(tagged, lib)[1]\n",
    "'''\n",
    "for line in exp:\n",
    "    tagged = tagging(line)\n",
    "    foods = identifying(tagged, lib)\n",
    "    print(foods[0])\n",
    "foods\n",
    "lib\n",
    "seedsave(lib)"
   ]
  },
  {
   "cell_type": "code",
   "execution_count": 149,
   "metadata": {},
   "outputs": [],
   "source": [
    "# for input one thing\n",
    "\n",
    "#indiv = \"\"\"This was great. We got crab nachos (with sea urchin \"queso\"), sticky rice tamal, fish tempura tacos, short rib confit, and two desserts (ice cream sandwich and corn ice cream taco)  Everything was very good. The crab nachos were as great as advertised. The duck that came on top of the tamal was excellent. The lime mayo in the tacos was great, although fitting the fish into the tortilla wasn't entirely easy. The tacos that resulted from the short rib dish were more structurally adequate, and the flavors really jumped. (We also thought the tortillas that came with this dish were better than the ones that came with the tacos -- weird, but maybe just a random thing.)\"\"\"\n",
    "\n",
    "indiv = \"\"\"This was a near-flawless lazy Sunday lunch after a fast paced and hectic week. Perhaps I was ready to be spoiled, maybe for the first time in seven days my mind had slowed and I allowed myself the energy to concentrate on nothing but a meal. Regardless, this was quite the meal on which to concentrate!\n",
    "\n",
    "I believe my favorite plate was the first. The Sticky Rice Tamal was opened at the table, the leaf wrappings laid flat. A spunky Red Chili Duck ragout was spooned on top. The starchy rice was broken by the rich duck sauce. The combination was perfect. The Prawn was almost it's equal. Here, less effort provided equally interesting returns. A simple salted shallot (?) mix dropped over the top of a flawlessly prepared prawn.\n",
    "\n",
    "I also ordered the Octopus Tacos. Celery was curled atop, along with watercress, cilantro and a beautifully heated salsa verde. In total, I loved the result. I missed, however the individual taste of the Octopus. This minuscule point should not dissuade other's enjoyment. \n",
    "\n",
    "The dessert here demands a separate paragraph. I ordered the Avocado mousse, expecting something different. (Avocado is not typically found on dessert menus!) What I got defied expectations. The avocado was blended with Greek yogurt and scooped back into the mold of a half of an avocado and placed over a bed of lime ice shaving that resembled snow. Through the magic of food preparation, the mousse was \"painted\" to resemble a real avocado! It was food-based Trompe l'oeil! I was told that this is the most photographed plate in New York! Totally understandable. It deserves that accolade.\n",
    "\n",
    "Interestingly, they offer a few Ciders to accompany their meals. I tried the French Aval. It really worked as a nice compliment to the fully spiced foods. More and more, I am enjoying Cider as an alternative to wine or beer with a meal. It has a freshness the other lack. \n",
    "\n",
    "This is sophisticated food that owes much to humble meals. Empellón has elevated the taco, tamale and assorted staples to a higher plain and by so doing, created some of the most amazing meals in New York. Wow.\n",
    "\n",
    "\"\"\"\n"
   ]
  },
  {
   "cell_type": "code",
   "execution_count": 150,
   "metadata": {},
   "outputs": [
    {
     "name": "stdout",
     "output_type": "stream",
     "text": [
      "['sticky rice tamal', 'spunky red chili duck ragout', 'rice', 'duck sauce', 'octopus tacos', 'celery', 'octopus', 'avocado mousse', 'avocado', 'yogurt', 'ice', 'mousse', 'beer', 'taco']\n"
     ]
    },
    {
     "data": {
      "text/plain": [
       "1"
      ]
     },
     "execution_count": 150,
     "metadata": {},
     "output_type": "execute_result"
    }
   ],
   "source": [
    "# for one only\n",
    "lib = seedextract()    # extracting text file holding randome food names\n",
    "tagged = tagging(indiv)\n",
    "foods = identifying(tagged, lib)\n",
    "print(foods[0])\n",
    "seedsave(lib)"
   ]
  },
  {
   "cell_type": "code",
   "execution_count": null,
   "metadata": {},
   "outputs": [],
   "source": []
  },
  {
   "cell_type": "code",
   "execution_count": 139,
   "metadata": {},
   "outputs": [
    {
     "data": {
      "text/plain": [
       "'input'"
      ]
     },
     "execution_count": 139,
     "metadata": {},
     "output_type": "execute_result"
    }
   ],
   "source": [
    "manual_input('yogurt')"
   ]
  },
  {
   "cell_type": "code",
   "execution_count": 132,
   "metadata": {},
   "outputs": [
    {
     "data": {
      "text/plain": [
       "'NN'"
      ]
     },
     "execution_count": 132,
     "metadata": {},
     "output_type": "execute_result"
    }
   ],
   "source": [
    "nltk.pos_tag(nltk.word_tokenize(\"\"\"sticky\"\"\"))[0][1]"
   ]
  },
  {
   "cell_type": "code",
   "execution_count": null,
   "metadata": {},
   "outputs": [],
   "source": []
  },
  {
   "cell_type": "code",
   "execution_count": 143,
   "metadata": {},
   "outputs": [],
   "source": [
    "a=['12324','122','123456']"
   ]
  },
  {
   "cell_type": "code",
   "execution_count": 144,
   "metadata": {},
   "outputs": [],
   "source": [
    "if '12' in a:\n",
    "    print(\"HELLO\")"
   ]
  },
  {
   "cell_type": "code",
   "execution_count": null,
   "metadata": {},
   "outputs": [],
   "source": []
  }
 ],
 "metadata": {
  "kernelspec": {
   "display_name": "Python 3",
   "language": "python",
   "name": "python3"
  },
  "language_info": {
   "codemirror_mode": {
    "name": "ipython",
    "version": 3
   },
   "file_extension": ".py",
   "mimetype": "text/x-python",
   "name": "python",
   "nbconvert_exporter": "python",
   "pygments_lexer": "ipython3",
   "version": "3.6.4"
  }
 },
 "nbformat": 4,
 "nbformat_minor": 2
}
