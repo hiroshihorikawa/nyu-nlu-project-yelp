{
 "cells": [
  {
   "cell_type": "code",
   "execution_count": 1,
   "metadata": {},
   "outputs": [],
   "source": [
    "import nltk\n",
    "from nltk.corpus import treebank"
   ]
  },
  {
   "cell_type": "code",
   "execution_count": 43,
   "metadata": {},
   "outputs": [],
   "source": [
    "a = \"Last night, I had pasta with chicken and wine. The pasta was fantastic but I wish they made the sauce less salty.\"\n",
    "b = \"\"\"The pho with beef was great. My friend had chicken pho.\"\"\"\n",
    "c = \"\"\"The BLT sandwich was aweful. The bread was hard and soggy.\"\"\"\n",
    "# from below, actually from yelp\n",
    "d = \"\"\"Server was a little rude. Ordered the calamari, duck confit poutine and the trout fish with miso soba - all very tasty. Definitely not your typical diner.\"\"\"\n",
    "e = \"\"\"Had their chocolate almond croissant and it was amazing! So light and buttery and oh my how chocolaty.\\n\\nIf you're looking for a light breakfast then head out here. Perfect spot for a coffee\\/latté before heading out to the old port\"\"\"\n",
    "# back to original\n",
    "f = \"\"\"Given how much the price is, I don't think it is worth eating buffalo chicken pizza. It is too expensive and it doesn't taste good.\"\"\"\n",
    "g = \"\"\"I really love the cheese pizza here. It is inexpensive, tasty, and filling.\"\"\"\n",
    "h = \"\"\"If you want good sushi, I would recommend you this store. The tuna sushi is the best you can find in this world.\"\"\"\n",
    "i = \"\"\"The chicken with rice is the signature dish you can get at the Halal cart outside of Palladium\"\"\"\n",
    "exp = [a,b,c,d,e,f,g,h,i]"
   ]
  },
  {
   "cell_type": "code",
   "execution_count": 44,
   "metadata": {},
   "outputs": [
    {
     "data": {
      "text/plain": [
       "\"\\ndef identifying(tagged, lib):\\n    foods = []\\n    length = len(tagged)\\n    i=0\\n    while(i<length):\\n        loc = i-1\\n        if(tagged[i][1]=='NN')and(item[i][1] in lib):    # when food is found\\n            candidate = item[1]\\n            while((tagged[loc][1]=='NN')or(tagged[loc][1]=='IN'))and(loc>0):    # when there is names of food before the located\\n                candidate = tagged[loc][0] + ' ' + candidate\\n                if(tagged[loc][1]=='NN')and(tagged[loc][0] not in lib):    # when name of food is not in library\\n                    lib.append(tagged[loc][0])\\n                loc = loc-1\\n            foods.append(candidate)\\n            i +=1\\n            \\n    return foods, lib\\n\""
      ]
     },
     "execution_count": 44,
     "metadata": {},
     "output_type": "execute_result"
    }
   ],
   "source": [
    "'''\n",
    "def identifying(tagged, lib):\n",
    "    foods = []\n",
    "    length = len(tagged)\n",
    "    i=0\n",
    "    while(i<length):\n",
    "        loc = i-1\n",
    "        if(tagged[i][1]=='NN')and(item[i][1] in lib):    # when food is found\n",
    "            candidate = item[1]\n",
    "            while((tagged[loc][1]=='NN')or(tagged[loc][1]=='IN'))and(loc>0):    # when there is names of food before the located\n",
    "                candidate = tagged[loc][0] + ' ' + candidate\n",
    "                if(tagged[loc][1]=='NN')and(tagged[loc][0] not in lib):    # when name of food is not in library\n",
    "                    lib.append(tagged[loc][0])\n",
    "                loc = loc-1\n",
    "            foods.append(candidate)\n",
    "            i +=1\n",
    "            \n",
    "    return foods, lib\n",
    "'''"
   ]
  },
  {
   "cell_type": "code",
   "execution_count": 48,
   "metadata": {},
   "outputs": [],
   "source": [
    "def identifying(tagged, lib):\n",
    "    foods = []\n",
    "    length = len(tagged)\n",
    "    i=0\n",
    "    while(i<length):\n",
    "        bloc = i-1\n",
    "        aloc = i+1\n",
    "        if(tagged[i][1]=='NN')and(tagged[i][0].lower() in lib):    # when food is found\n",
    "            candidate = tagged[i][0].lower()\n",
    "            while((tagged[bloc][1]=='NN')or(tagged[bloc][1]=='IN'))and(bloc>0):    # when there is names of food before the located\n",
    "                candidate = tagged[bloc][0].lower() + ' ' + candidate\n",
    "                if(tagged[bloc][1]=='NN')and(tagged[bloc][0].lower() not in lib):    # when name of food is not in library\n",
    "                    lib.append(tagged[bloc][0])\n",
    "                bloc = bloc-1\n",
    "            while(tagged[aloc][1]=='NN')or(tagged[aloc][1]=='IN'):    # when there is names of food after the located\n",
    "                candidate = candidate + ' ' + tagged[aloc][0].lower()\n",
    "                if(tagged[aloc][1]=='NN')and(tagged[aloc][0].lower() not in lib):    # when name of food is not in library\n",
    "                    lib.append(tagged[aloc][0])\n",
    "                aloc +=1\n",
    "            i = aloc -1\n",
    "            foods.append(candidate)\n",
    "            \n",
    "        i +=1\n",
    "            \n",
    "    return foods, lib\n",
    "\n",
    "def tagging(sentence):\n",
    "    sentence1 = sentence.replace('\\n',' ')\n",
    "    sentence2 = sentence1.replace('\\/',' ')\n",
    "    tokens = nltk.word_tokenize(sentence2)\n",
    "    tagged = nltk.pos_tag(tokens)\n",
    "    return tagged"
   ]
  },
  {
   "cell_type": "code",
   "execution_count": 67,
   "metadata": {},
   "outputs": [],
   "source": [
    "def seedextract():\n",
    "    with open('seed.txt', 'r') as f:\n",
    "        food_seed = [line.strip() for line in f]\n",
    "    return food_seed\n",
    "\n",
    "def seedsave(saving):\n",
    "    thefile = open('seed.txt', 'w')\n",
    "    for item in saving:\n",
    "        thefile.write('%s\\n' % item)\n",
    "    backup = open('backup.txt', 'w')\n",
    "    for item in saving:\n",
    "        backup.write('%s\\n' % item)\n",
    "    return 1"
   ]
  },
  {
   "cell_type": "code",
   "execution_count": 68,
   "metadata": {},
   "outputs": [
    {
     "name": "stdout",
     "output_type": "stream",
     "text": [
      "['pasta with chicken', 'wine', 'pasta']\n",
      "['pho with beef', 'pho']\n",
      "['sandwich']\n",
      "['duck confit poutine', 'trout fish with miso']\n",
      "['chocolate almond croissant', 'coffee latté before']\n",
      "['buffalo chicken pizza']\n",
      "['pizza']\n",
      "['sushi', 'tuna sushi']\n",
      "['chicken with rice']\n"
     ]
    },
    {
     "data": {
      "text/plain": [
       "1"
      ]
     },
     "execution_count": 68,
     "metadata": {},
     "output_type": "execute_result"
    }
   ],
   "source": [
    "#lib = ['chicken','beef','pork','fish','duck','egg','carrot','brocolli','cabbage','olive','salad','almond','chocolate','miso','pasta','ramen','donut','sandwich','coffee','beer','wine','sake','whiskey','vodka']\n",
    "lib = seedextract()    # extracting text file holding randome food names\n",
    "tagged = tagging(b)\n",
    "foods = identifying(tagged, lib)[1]\n",
    "for line in exp:\n",
    "    tagged = tagging(line)\n",
    "    foods = identifying(tagged, lib)\n",
    "    print(foods[0])\n",
    "foods\n",
    "lib\n",
    "seedsave(lib)"
   ]
  },
  {
   "cell_type": "code",
   "execution_count": null,
   "metadata": {},
   "outputs": [],
   "source": []
  },
  {
   "cell_type": "code",
   "execution_count": 64,
   "metadata": {},
   "outputs": [],
   "source": [
    "# manual trainer\n",
    "def manual_input(word):\n",
    "    word_list = seedextract()\n",
    "    word_list.append(word)\n",
    "    seedsave(word_list)\n",
    "    return 1"
   ]
  },
  {
   "cell_type": "code",
   "execution_count": 65,
   "metadata": {},
   "outputs": [
    {
     "data": {
      "text/plain": [
       "1"
      ]
     },
     "execution_count": 65,
     "metadata": {},
     "output_type": "execute_result"
    }
   ],
   "source": [
    "manual_input('sushi')"
   ]
  },
  {
   "cell_type": "code",
   "execution_count": 30,
   "metadata": {},
   "outputs": [
    {
     "data": {
      "text/plain": [
       "[('croissant', 'NN')]"
      ]
     },
     "execution_count": 30,
     "metadata": {},
     "output_type": "execute_result"
    }
   ],
   "source": [
    "nltk.pos_tag(nltk.word_tokenize(\"\"\"croissant\"\"\"))"
   ]
  },
  {
   "cell_type": "code",
   "execution_count": null,
   "metadata": {},
   "outputs": [],
   "source": []
  }
 ],
 "metadata": {
  "kernelspec": {
   "display_name": "Python 3",
   "language": "python",
   "name": "python3"
  },
  "language_info": {
   "codemirror_mode": {
    "name": "ipython",
    "version": 3
   },
   "file_extension": ".py",
   "mimetype": "text/x-python",
   "name": "python",
   "nbconvert_exporter": "python",
   "pygments_lexer": "ipython3",
   "version": "3.6.4"
  }
 },
 "nbformat": 4,
 "nbformat_minor": 2
}
