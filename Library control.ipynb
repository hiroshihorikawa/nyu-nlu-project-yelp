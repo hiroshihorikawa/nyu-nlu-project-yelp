{
 "cells": [
  {
   "cell_type": "code",
   "execution_count": 1,
   "metadata": {},
   "outputs": [],
   "source": [
    "import nltk\n",
    "from nltk.corpus import treebank"
   ]
  },
  {
   "cell_type": "code",
   "execution_count": 2,
   "metadata": {},
   "outputs": [],
   "source": [
    "def identifying(tagged, lib):\n",
    "    foods = []\n",
    "    length = len(tagged)\n",
    "    i=0\n",
    "    while(i<length):\n",
    "        bloc = i-1\n",
    "        aloc = i+1\n",
    "        if('NN' in tagged[i][1])and(tagged[i][0].lower() in lib):    # when food is found\n",
    "            candidate = tagged[i][0].lower()\n",
    "            while(('NN' in tagged[bloc][1])or(tagged[bloc][1]=='IN')or(tagged[bloc][1]=='CC'))and(bloc>0):    # when there is names of food before the located\n",
    "                candidate = tagged[bloc][0].lower() + ' ' + candidate\n",
    "                if('NN' in tagged[bloc][1])and(tagged[bloc][0].lower() not in lib):    # when name of food is not in library\n",
    "                    lib.append(tagged[bloc][0].lower())\n",
    "                bloc = bloc-1\n",
    "            while('NN' in tagged[aloc][1])or(tagged[aloc][1]=='IN')or(tagged[aloc][1]=='CC'):    # when there is names of food after the located\n",
    "                candidate = candidate + ' ' + tagged[aloc][0].lower()\n",
    "                if('NN' in tagged[aloc][1])and(tagged[aloc][0].lower() not in lib):    # when name of food is not in library\n",
    "                    lib.append(tagged[aloc][0].lower())\n",
    "                aloc +=1\n",
    "            i = aloc -1\n",
    "            foods.append(candidate)\n",
    "            \n",
    "        i +=1\n",
    "            \n",
    "    return foods, lib\n",
    "\n",
    "def tagging(sentence):\n",
    "    sentence1 = sentence.replace('\\n',' ')\n",
    "    sentence2 = sentence1.replace('\\/',' ')\n",
    "    tokens = nltk.word_tokenize(sentence2)\n",
    "    tagged = nltk.pos_tag(tokens)\n",
    "    return tagged"
   ]
  },
  {
   "cell_type": "code",
   "execution_count": 3,
   "metadata": {},
   "outputs": [],
   "source": [
    "def seedextract():\n",
    "    with open('seed.txt', 'r') as f:\n",
    "        food_seed = [line.strip() for line in f]\n",
    "    return food_seed\n",
    "\n",
    "def seedsave(saving):\n",
    "    thefile = open('seed.txt', 'w')\n",
    "    for item in saving:\n",
    "        thefile.write('%s\\n' % item)\n",
    "    backup = open('backup.txt', 'w')\n",
    "    for item in saving:\n",
    "        backup.write('%s\\n' % item)\n",
    "    return 1"
   ]
  },
  {
   "cell_type": "code",
   "execution_count": 11,
   "metadata": {},
   "outputs": [],
   "source": [
    "# manual input\n",
    "def manual_input(word):\n",
    "    word_list = seedextract()\n",
    "    word = word.lower()\n",
    "    if word not in word_list:\n",
    "        word_list.append(word)\n",
    "    seedsave(word_list)\n",
    "    return (\"Input: %s\"%word)"
   ]
  },
  {
   "cell_type": "code",
   "execution_count": 12,
   "metadata": {},
   "outputs": [
    {
     "data": {
      "text/plain": [
       "'input crab'"
      ]
     },
     "execution_count": 12,
     "metadata": {},
     "output_type": "execute_result"
    }
   ],
   "source": [
    "manual_input('crab')"
   ]
  },
  {
   "cell_type": "code",
   "execution_count": 13,
   "metadata": {},
   "outputs": [],
   "source": [
    "# deleting word\n",
    "def removing_word(word):\n",
    "    word_list = seedextract()\n",
    "    word_list.remove(word)\n",
    "    seedsave(word_list)\n",
    "    return (\"Removed: %s\"%word)"
   ]
  },
  {
   "cell_type": "code",
   "execution_count": 14,
   "metadata": {},
   "outputs": [
    {
     "data": {
      "text/plain": [
       "'Removed: BLT'"
      ]
     },
     "execution_count": 14,
     "metadata": {},
     "output_type": "execute_result"
    }
   ],
   "source": [
    "removing_word('BLT')"
   ]
  },
  {
   "cell_type": "code",
   "execution_count": 35,
   "metadata": {},
   "outputs": [],
   "source": [
    "# deleting extranious words\n",
    "def purify():\n",
    "    lib = seedextract()\n",
    "    for word in lib:\n",
    "        edit = nltk.pos_tag(nltk.word_tokenize(word))[0][1]\n",
    "        if edit[:2] != 'NN':\n",
    "            lib.remove(word)\n",
    "    seedsave(lib)\n",
    "    return 'Purified'"
   ]
  },
  {
   "cell_type": "code",
   "execution_count": 36,
   "metadata": {},
   "outputs": [
    {
     "data": {
      "text/plain": [
       "'Purified'"
      ]
     },
     "execution_count": 36,
     "metadata": {},
     "output_type": "execute_result"
    }
   ],
   "source": [
    "purify()"
   ]
  },
  {
   "cell_type": "code",
   "execution_count": 37,
   "metadata": {},
   "outputs": [
    {
     "data": {
      "text/plain": [
       "['spunky', 'ragout', 'sauce', 'octopus', 'mousse']"
      ]
     },
     "execution_count": 37,
     "metadata": {},
     "output_type": "execute_result"
    }
   ],
   "source": [
    "view = seedextract()\n",
    "view[-5:]"
   ]
  },
  {
   "cell_type": "code",
   "execution_count": 38,
   "metadata": {},
   "outputs": [
    {
     "data": {
      "text/plain": [
       "['chicken',\n",
       " 'beef',\n",
       " 'pork',\n",
       " 'fish',\n",
       " 'duck',\n",
       " 'egg',\n",
       " 'carrot',\n",
       " 'brocolli',\n",
       " 'cabbage',\n",
       " 'salad',\n",
       " 'almond',\n",
       " 'chocolate',\n",
       " 'miso',\n",
       " 'pasta',\n",
       " 'ramen',\n",
       " 'donut',\n",
       " 'sandwich',\n",
       " 'coffee',\n",
       " 'beer',\n",
       " 'wine',\n",
       " 'sake',\n",
       " 'whiskey',\n",
       " 'vodka',\n",
       " 'pho',\n",
       " 'confit',\n",
       " 'poutine',\n",
       " 'trout',\n",
       " 'croissant',\n",
       " 'latté',\n",
       " 'buffalo',\n",
       " 'pizza',\n",
       " 'rice',\n",
       " 'sushi',\n",
       " 'tuna',\n",
       " 'noodle',\n",
       " 'noodles',\n",
       " 'avocado',\n",
       " 'guacamole',\n",
       " 'chips',\n",
       " 'chip',\n",
       " 'salad',\n",
       " 'pie',\n",
       " 'lemon',\n",
       " 'apple',\n",
       " 'grape',\n",
       " 'guac',\n",
       " 'onion',\n",
       " 'steak',\n",
       " 'onions',\n",
       " 'nachos',\n",
       " 'blt',\n",
       " 'cheese',\n",
       " 'tacos',\n",
       " 'crab',\n",
       " 'cake',\n",
       " 'benedict',\n",
       " 'tamal',\n",
       " 'tempura',\n",
       " 'rib',\n",
       " 'cream',\n",
       " 'corn',\n",
       " 'ice',\n",
       " 'taco',\n",
       " 'dish',\n",
       " 'sticky',\n",
       " 'chili',\n",
       " 'spunky',\n",
       " 'ragout',\n",
       " 'sauce',\n",
       " 'octopus',\n",
       " 'mousse']"
      ]
     },
     "execution_count": 38,
     "metadata": {},
     "output_type": "execute_result"
    }
   ],
   "source": [
    "view"
   ]
  },
  {
   "cell_type": "code",
   "execution_count": null,
   "metadata": {},
   "outputs": [],
   "source": []
  }
 ],
 "metadata": {
  "kernelspec": {
   "display_name": "Python 3",
   "language": "python",
   "name": "python3"
  },
  "language_info": {
   "codemirror_mode": {
    "name": "ipython",
    "version": 3
   },
   "file_extension": ".py",
   "mimetype": "text/x-python",
   "name": "python",
   "nbconvert_exporter": "python",
   "pygments_lexer": "ipython3",
   "version": "3.6.4"
  }
 },
 "nbformat": 4,
 "nbformat_minor": 2
}
